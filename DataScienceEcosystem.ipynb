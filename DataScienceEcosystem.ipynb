{
 "cells": [
  {
   "cell_type": "markdown",
   "metadata": {},
   "source": [
    "<center>\n",
    "    <img src=\"https://cf-courses-data.s3.us.cloud-object-storage.appdomain.cloud/IBMDeveloperSkillsNetwork-DS0105EN-SkillsNetwork/labs/Module2/images/SN_web_lightmode.png\" width=\"300\" alt=\"cognitiveclass.ai logo\">\n",
    "</center>\n"
   ]
  },
  {
   "cell_type": "markdown",
   "metadata": {},
   "source": [
    "#### Add your code below following the instructions given in the course\n"
   ]
  },
  {
   "cell_type": "code",
   "execution_count": 1,
   "metadata": {
    "tags": []
   },
   "outputs": [],
   "source": [
    "### Exercise 2: Create markdown cell with title of the notebook\n",
    "# Data Science Tools and Ecosystem\n"
   ]
  },
  {
   "cell_type": "markdown",
   "metadata": {
    "tags": []
   },
   "source": [
    "### Exercise 2: Create markdown cell with title of the notebook\n",
    "# Data Science Tools and Ecosystem\n"
   ]
  },
  {
   "cell_type": "markdown",
   "metadata": {},
   "source": [
    "### Exercise 3 - Create a markdown cell for an introduction\n",
    "#### In this notebook, Data Science Tools and Ecosystem are summarized.\n",
    "\n",
    "Some popular Data Science tools are\n",
    "Programming Languages (Python):Conduct data analysis.\n",
    "\n",
    "Data Manipulation and Analysis (Pandas) :Python library for data manipulation and analysis\n",
    "\n",
    "Data Visualization (Matplotlip) :plotting library for the Python programming language\n",
    "\n",
    "ODPi Egeria: is an open ecosystem offers a set of open APIs, types, and interchange protocols that metadata repositories use to share and exchange data"
   ]
  },
  {
   "cell_type": "code",
   "execution_count": null,
   "metadata": {},
   "outputs": [],
   "source": [
    "### Exercise 4 - Create a markdown cell to list data science languages\n",
    "#### Some of the popular languages that Data Scientists use are:\n",
    "1. Python\n",
    "2. R\n",
    "3. SQL"
   ]
  },
  {
   "cell_type": "markdown",
   "metadata": {},
   "source": [
    "### Exercise 4 - Create a markdown cell to list data science languages\n",
    "#### Some of the popular languages that Data Scientists use are:\n",
    "1. Python\n",
    "2. R\n",
    "3. SQL\n"
   ]
  },
  {
   "cell_type": "code",
   "execution_count": null,
   "metadata": {},
   "outputs": [],
   "source": [
    "### Exercise 5 - Create a markdown cell to list data science libraries\n",
    "#### Some of the commonly used libraries used by Data Scientists include:\n",
    "- Pandas\n",
    "- Matplotlib\n",
    "- Scikit-learnl"
   ]
  },
  {
   "cell_type": "markdown",
   "metadata": {
    "tags": []
   },
   "source": [
    "### Exercise 5 - Create a markdown cell to list data science libraries\n",
    "#### Some of the commonly used libraries used by Data Scientists include:\n",
    "- Pandas\n",
    "- Matplotlib\n",
    "- Scikit-learnl"
   ]
  },
  {
   "cell_type": "code",
   "execution_count": null,
   "metadata": {},
   "outputs": [],
   "source": [
    "### Exercise 6 - Create a markdown cell with a table of Data Science tools\n",
    "\n",
    "\n",
    "| Data Science Tools |  \n",
    "| -------------|  \n",
    "| Jupyter Notebook|  \n",
    "| RStudio | \n",
    "| Visual Studio Code | "
   ]
  },
  {
   "cell_type": "markdown",
   "metadata": {
    "tags": []
   },
   "source": [
    "### Exercise 6 - Create a markdown cell with a table of Data Science tools\n",
    "\n",
    "\n",
    "| Data Science Tools |  \n",
    "| -------------|  \n",
    "| Jupyter Notebook|  \n",
    "| RStudio | \n",
    "| Visual Studio Code | "
   ]
  },
  {
   "cell_type": "markdown",
   "metadata": {
    "tags": []
   },
   "source": [
    "### Exercise 7 - Create a markdown cell introducing arithmetic expression examples\n",
    "\n",
    "### Below are a few examples of evaluating arithmetic expressions in Python\n"
   ]
  },
  {
   "cell_type": "markdown",
   "metadata": {
    "tags": []
   },
   "source": [
    "(4+8) * ( 5-2) / 9\n"
   ]
  },
  {
   "cell_type": "markdown",
   "metadata": {},
   "source": [
    "### Exercise 8 - Create a code cell to multiply and add numbers\n",
    "### This a simple arithmetic expression to mutiply then add integers"
   ]
  },
  {
   "cell_type": "code",
   "execution_count": 12,
   "metadata": {
    "tags": []
   },
   "outputs": [
    {
     "data": {
      "text/plain": [
       "17"
      ]
     },
     "execution_count": 12,
     "metadata": {},
     "output_type": "execute_result"
    }
   ],
   "source": [
    "(3*4)+5"
   ]
  },
  {
   "cell_type": "markdown",
   "metadata": {},
   "source": [
    "### Exercise 9 - Create a code cell to convert minutes to hours\n",
    "### This will convert 200 minutes to hours by diving by 60"
   ]
  },
  {
   "cell_type": "code",
   "execution_count": 11,
   "metadata": {
    "tags": []
   },
   "outputs": [
    {
     "data": {
      "text/plain": [
       "3.3333333333333335"
      ]
     },
     "execution_count": 11,
     "metadata": {},
     "output_type": "execute_result"
    }
   ],
   "source": [
    "200 / 60"
   ]
  },
  {
   "cell_type": "markdown",
   "metadata": {
    "tags": []
   },
   "source": [
    "### Exercise 10 - Insert a markdown cell to list Objectives\n",
    "### Some of the key takeaways from the course\n",
    " **Objectives:**\n",
    "##### Explore different data sources and formats, including structured and unstructured data\n",
    "##### Gain practical experience using Jupter Notehbook \n",
    "##### Understand fundamental concepts of data science\n",
    "\n",
    "### List popular languages for Data Science\n",
    "\n",
    "- Python\n",
    "- R\n",
    "- SQL\n",
    "- Julia\n",
    "- Scala\n",
    "\n",
    "\n"
   ]
  },
  {
   "cell_type": "markdown",
   "metadata": {},
   "source": [
    "### Exercise 11 - Create a markdown cell to indicate the Author's name\n",
    "## Author\n",
    "# Mohamed\n",
    "\n",
    "\n"
   ]
  },
  {
   "cell_type": "code",
   "execution_count": null,
   "metadata": {},
   "outputs": [],
   "source": []
  }
 ],
 "metadata": {
  "kernelspec": {
   "display_name": "Python",
   "language": "python",
   "name": "conda-env-python-py"
  },
  "language_info": {
   "codemirror_mode": {
    "name": "ipython",
    "version": 3
   },
   "file_extension": ".py",
   "mimetype": "text/x-python",
   "name": "python",
   "nbconvert_exporter": "python",
   "pygments_lexer": "ipython3",
   "version": "3.7.12"
  }
 },
 "nbformat": 4,
 "nbformat_minor": 4
}
